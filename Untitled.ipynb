{
 "cells": [
  {
   "cell_type": "code",
   "execution_count": 1,
   "metadata": {
    "collapsed": true
   },
   "outputs": [],
   "source": [
    "import socket\n",
    "import sys\n",
    "import time\n",
    "from __future__ import division\n",
    "    \n",
    "def run(*commands):\n",
    "    HOST, PORT = \"codebb.cloudapp.net\", 17429\n",
    "    \n",
    "    data=\"TheFeds\" + \" \" + \"ilikepizza123\" + \"\\n\" + \"\\n\".join(commands) + \"\\nCLOSE_CONNECTION\\n\"\n",
    "\n",
    "    try:\n",
    "        sock = socket.socket(socket.AF_INET, socket.SOCK_STREAM)\n",
    "\n",
    "        sock.connect((HOST, PORT))\n",
    "        sock.sendall(data)\n",
    "        sfile = sock.makefile()\n",
    "        rline = sfile.readline()\n",
    "        returnstring = []\n",
    "        while rline:\n",
    "            returnstring.append(rline)\n",
    "            rline = sfile.readline()\n",
    "    finally:\n",
    "        sock.close()\n",
    "    return returnstring\n",
    "\n",
    "def subscribe(user, password):\n",
    "    HOST, PORT = \"codebb.cloudapp.net\", 17429\n",
    "    \n",
    "    data=\"TheFeds\" + \" \" + \"ilikepizza123\" + \"\\nSUBSCRIBE\\n\"\n",
    "\n",
    "    try:\n",
    "        sock = socket.socket(socket.AF_INET, socket.SOCK_STREAM)\n",
    "\n",
    "        sock.connect((HOST, PORT))\n",
    "        sock.sendall(data)\n",
    "        sfile = sock.makefile()\n",
    "        rline = sfile.readline()\n",
    "        while rline:\n",
    "            print(rline.strip())\n",
    "            rline = sfile.readline()\n",
    "    finally:\n",
    "        sock.close()"
   ]
  },
  {
   "cell_type": "code",
   "execution_count": 61,
   "metadata": {
    "collapsed": false
   },
   "outputs": [
    {
     "data": {
      "text/plain": [
       "[\"DISCLAIMER: The HELP command returns more than 1 line and may negatively impact programs dependend on some getline() function. You shouldn't be calling HELP in your programs anyways. \\n\",\n",
       " '\\n',\n",
       " 'MY_CASH - output your current cash. \\n',\n",
       " 'Output format: MY_CASH_OUT <cash> \\n',\n",
       " '\\n',\n",
       " 'MY_SECURITIES - output all shares you own. \\n',\n",
       " 'Output format: MY_SECURITIES_OUT <ticker> <shares> <dividend_ratio> <ticker> <shares> <dividend_ratio> ... \\n',\n",
       " '\\n',\n",
       " 'MY_ORDERS - output all of your current orders bid & ask on the exchange. \\n',\n",
       " 'Output format: MY_ORDERS_OUT [<BID or ASK> <price> <shares>...] \\n',\n",
       " '\\n',\n",
       " 'SECURITIES - output all securities in the exchange. \\n',\n",
       " 'Output format: SECURITIES_OUT <ticker> <net_worth> <dividend_ratio> <volatility>\\xe2\\x80\\xa6 \\n',\n",
       " '\\n',\n",
       " 'ORDERS <ticker> - list all orders on the exchange for a ticker. \\n',\n",
       " 'Output format: SECURITY_ORDERS_OUT [<BID or ASK> <price> <shares>\\xe2\\x80\\xa6] \\n',\n",
       " '\\n',\n",
       " 'BID <ticker> <price> <shares> - place a new bid. \\n',\n",
       " 'Output format: BID_OUT DONE or ERROR Not Enough Cash to make bid order \\n',\n",
       " '\\n',\n",
       " 'ASK <ticker> <price> <shares> - place a new ask. \\n',\n",
       " 'Output format: ASK_OUT DONE or ERROR Not Enough Shares Owned \\n',\n",
       " '\\n',\n",
       " 'CLEAR_BID <ticker> - clear your bid. \\n',\n",
       " 'Output format: CLEAR_BID_OUT DONE or ERROR No Security Specified \\n',\n",
       " '\\n',\n",
       " 'CLEAR_ASK <ticker> - clear your ask. \\n',\n",
       " 'Output format: CLEAR_ASK_OUT DONE or ERROR No Security Specified \\n',\n",
       " '\\n',\n",
       " 'SUBSCRIBE - subscribe to any trades you make as well as any bids. The market may automatically withdraw due to lack of funds. \\n',\n",
       " 'Output format: BUY <ticker> <price> <shares> or SELL <ticker> <price> <shares> \\n',\n",
       " '\\n',\n",
       " 'UNSUBSRCIBE - unsubscribe from updates. \\n',\n",
       " '\\n',\n",
       " 'CLOSE_CONNECTION - end the connection gracefully.\\n',\n",
       " '\\n',\n",
       " 'HELP - show all possible commands.\\n',\n",
       " '\\r\\n']"
      ]
     },
     "execution_count": 61,
     "metadata": {},
     "output_type": "execute_result"
    }
   ],
   "source": [
    "run(\"HELP\")"
   ]
  },
  {
   "cell_type": "code",
   "execution_count": 37,
   "metadata": {
    "collapsed": false
   },
   "outputs": [
    {
     "name": "stdout",
     "output_type": "stream",
     "text": [
      "SECURITIES_OUT AAPL 922028.7078109506 3.0E-4 0.005 ATVI 1054223.7497086637 3.0E-4 0.005 EA 1042893.3837486352 3.0E-4 0.005 FB 995447.8112745286 3.0E-4 0.005 GOOG 1002278.9472205784 3.0E-4 0.005 MSFT 1000383.6192995766 3.0E-4 0.005 SBUX 849176.4464524364 3.0E-4 0.005 SNY 1187233.5482584422 3.0E-4 0.005 TSLA 918880.5159467636 3.0E-4 0.005 TWTR 887776.8402109222 3.0E-4 0.005\n"
     ]
    }
   ],
   "source": [
    "securities = run(\"SECURITIES\")"
   ]
  },
  {
   "cell_type": "code",
   "execution_count": 42,
   "metadata": {
    "collapsed": false
   },
   "outputs": [],
   "source": [
    "securities = securities[0].split(\" \")"
   ]
  },
  {
   "cell_type": "code",
   "execution_count": 43,
   "metadata": {
    "collapsed": false
   },
   "outputs": [
    {
     "name": "stdout",
     "output_type": "stream",
     "text": [
      "['SECURITIES_OUT', 'AAPL', '922028.7078109506', '3.0E-4', '0.005', 'ATVI', '1054223.7497086637', '3.0E-4', '0.005', 'EA', '1042893.3837486352', '3.0E-4', '0.005', 'FB', '995447.8112745286', '3.0E-4', '0.005', 'GOOG', '1002278.9472205784', '3.0E-4', '0.005', 'MSFT', '1000383.6192995766', '3.0E-4', '0.005', 'SBUX', '849176.4464524364', '3.0E-4', '0.005', 'SNY', '1187233.5482584422', '3.0E-4', '0.005', 'TSLA', '918880.5159467636', '3.0E-4', '0.005', 'TWTR', '887776.8402109222', '3.0E-4', '0.005', '\\r\\n']\n"
     ]
    }
   ],
   "source": [
    "print securities"
   ]
  },
  {
   "cell_type": "code",
   "execution_count": 44,
   "metadata": {
    "collapsed": false
   },
   "outputs": [
    {
     "name": "stdout",
     "output_type": "stream",
     "text": [
      "BID_OUT DONE\n"
     ]
    },
    {
     "data": {
      "text/plain": [
       "['BID_OUT DONE\\r\\n']"
      ]
     },
     "execution_count": 44,
     "metadata": {},
     "output_type": "execute_result"
    }
   ],
   "source": [
    "run(\"BID SNY 10 30\")"
   ]
  },
  {
   "cell_type": "code",
   "execution_count": 45,
   "metadata": {
    "collapsed": false
   },
   "outputs": [
    {
     "name": "stdout",
     "output_type": "stream",
     "text": [
      "BID_OUT DONE\n"
     ]
    },
    {
     "data": {
      "text/plain": [
       "['BID_OUT DONE\\r\\n']"
      ]
     },
     "execution_count": 45,
     "metadata": {},
     "output_type": "execute_result"
    }
   ],
   "source": [
    "run(\"BID FB 6.5 30\")"
   ]
  },
  {
   "cell_type": "code",
   "execution_count": 46,
   "metadata": {
    "collapsed": false
   },
   "outputs": [
    {
     "name": "stdout",
     "output_type": "stream",
     "text": [
      "BID_OUT DONE\n"
     ]
    },
    {
     "data": {
      "text/plain": [
       "['BID_OUT DONE\\r\\n']"
      ]
     },
     "execution_count": 46,
     "metadata": {},
     "output_type": "execute_result"
    }
   ],
   "source": [
    "run(\"BID FB 6.5 100\")"
   ]
  },
  {
   "cell_type": "code",
   "execution_count": 47,
   "metadata": {
    "collapsed": false
   },
   "outputs": [
    {
     "name": "stdout",
     "output_type": "stream",
     "text": [
      "ASK_OUT DONE\n"
     ]
    },
    {
     "data": {
      "text/plain": [
       "['ASK_OUT DONE\\r\\n']"
      ]
     },
     "execution_count": 47,
     "metadata": {},
     "output_type": "execute_result"
    }
   ],
   "source": [
    "run(\"ASK SNY 10 30\")"
   ]
  },
  {
   "cell_type": "code",
   "execution_count": 53,
   "metadata": {
    "collapsed": false
   },
   "outputs": [
    {
     "name": "stdout",
     "output_type": "stream",
     "text": [
      "ERROR Not enouch cash to make bid order.\n"
     ]
    },
    {
     "data": {
      "text/plain": [
       "['ERROR Not enouch cash to make bid order.\\r\\n']"
      ]
     },
     "execution_count": 53,
     "metadata": {},
     "output_type": "execute_result"
    }
   ],
   "source": [
    "run(\"BID ATVI 13 10\")"
   ]
  },
  {
   "cell_type": "code",
   "execution_count": 54,
   "metadata": {
    "collapsed": false
   },
   "outputs": [
    {
     "name": "stdout",
     "output_type": "stream",
     "text": [
      "MY_CASH_OUT 149.56892332156727\n"
     ]
    },
    {
     "data": {
      "text/plain": [
       "['MY_CASH_OUT 149.56892332156727\\r\\n']"
      ]
     },
     "execution_count": 54,
     "metadata": {},
     "output_type": "execute_result"
    }
   ],
   "source": [
    "run(\"MY_CASH\")"
   ]
  },
  {
   "cell_type": "code",
   "execution_count": 55,
   "metadata": {
    "collapsed": false
   },
   "outputs": [
    {
     "name": "stdout",
     "output_type": "stream",
     "text": [
      "MY_CASH_OUT 233.67662583665617\n",
      "['MY_CASH_OUT 233.67662583665617\\r\\n']\n"
     ]
    }
   ],
   "source": [
    "mycash = run(\"MY_CASH\")\n",
    "print mycash"
   ]
  },
  {
   "cell_type": "code",
   "execution_count": 57,
   "metadata": {
    "collapsed": false
   },
   "outputs": [
    {
     "name": "stdout",
     "output_type": "stream",
     "text": [
      "BID_OUT DONE\n"
     ]
    },
    {
     "data": {
      "text/plain": [
       "['BID_OUT DONE\\r\\n']"
      ]
     },
     "execution_count": 57,
     "metadata": {},
     "output_type": "execute_result"
    }
   ],
   "source": [
    "run(\"BID EA 10.4 20\")"
   ]
  },
  {
   "cell_type": "code",
   "execution_count": 58,
   "metadata": {
    "collapsed": false
   },
   "outputs": [
    {
     "name": "stdout",
     "output_type": "stream",
     "text": [
      "ASK_OUT DONE\n"
     ]
    },
    {
     "data": {
      "text/plain": [
       "['ASK_OUT DONE\\r\\n']"
      ]
     },
     "execution_count": 58,
     "metadata": {},
     "output_type": "execute_result"
    }
   ],
   "source": [
    "run(\"ASK FB 3.8 130\")"
   ]
  },
  {
   "cell_type": "code",
   "execution_count": 59,
   "metadata": {
    "collapsed": false
   },
   "outputs": [
    {
     "name": "stdout",
     "output_type": "stream",
     "text": [
      "MY_SECURITIES_OUT AAPL 0 0.0 ATVI 20 1.467384021257677E-4 EA 20 0.0031810709128421827 FB 120 2.2473944405853403E-4 GOOG 0 0.0 MSFT 0 0.0 SBUX 0 0.0 SNY 25 2.0253583608512358E-6 TSLA 0 0.0 TWTR 0 0.0\n"
     ]
    },
    {
     "data": {
      "text/plain": [
       "['MY_SECURITIES_OUT AAPL 0 0.0 ATVI 20 1.467384021257677E-4 EA 20 0.0031810709128421827 FB 120 2.2473944405853403E-4 GOOG 0 0.0 MSFT 0 0.0 SBUX 0 0.0 SNY 25 2.0253583608512358E-6 TSLA 0 0.0 TWTR 0 0.0 \\r\\n']"
      ]
     },
     "execution_count": 59,
     "metadata": {},
     "output_type": "execute_result"
    }
   ],
   "source": [
    "run(\"MY_SECURITIES\")"
   ]
  },
  {
   "cell_type": "code",
   "execution_count": 61,
   "metadata": {
    "collapsed": false
   },
   "outputs": [
    {
     "name": "stdout",
     "output_type": "stream",
     "text": [
      "['MY_CASH_OUT', '233.67662583665617\\r\\n']\n"
     ]
    }
   ],
   "source": [
    "mycash = mycash[0].split(\" \")\n",
    "print mycash"
   ]
  },
  {
   "cell_type": "code",
   "execution_count": 63,
   "metadata": {
    "collapsed": false
   },
   "outputs": [
    {
     "name": "stdout",
     "output_type": "stream",
     "text": [
      "233.67662583665617\r\n",
      "\n"
     ]
    }
   ],
   "source": [
    "mycash = mycash[1]"
   ]
  },
  {
   "cell_type": "code",
   "execution_count": 64,
   "metadata": {
    "collapsed": false
   },
   "outputs": [
    {
     "name": "stdout",
     "output_type": "stream",
     "text": [
      "MY_SECURITIES_OUT AAPL 0 0.0 ATVI 0 0.0 EA 0 0.0 FB 0 0.0 GOOG 0 0.0 MSFT 0 0.0 SBUX 0 0.0 SNY 0 0.0 TSLA 0 0.0 TWTR 0 0.0\n",
      "['MY_SECURITIES_OUT AAPL 0 0.0 ATVI 0 0.0 EA 0 0.0 FB 0 0.0 GOOG 0 0.0 MSFT 0 0.0 SBUX 0 0.0 SNY 0 0.0 TSLA 0 0.0 TWTR 0 0.0 \\r\\n']\n"
     ]
    }
   ],
   "source": [
    "mysecurities = run(\"MY_SECURITIES\")\n",
    "print mysecurities"
   ]
  },
  {
   "cell_type": "code",
   "execution_count": 65,
   "metadata": {
    "collapsed": false
   },
   "outputs": [
    {
     "name": "stdout",
     "output_type": "stream",
     "text": [
      "['MY_SECURITIES_OUT', 'AAPL', '0', '0.0', 'ATVI', '0', '0.0', 'EA', '0', '0.0', 'FB', '0', '0.0', 'GOOG', '0', '0.0', 'MSFT', '0', '0.0', 'SBUX', '0', '0.0', 'SNY', '0', '0.0', 'TSLA', '0', '0.0', 'TWTR', '0', '0.0', '\\r\\n']\n"
     ]
    }
   ],
   "source": [
    "mysecurities = mysecurities[0].split(\" \")\n",
    "print mysecurities"
   ]
  },
  {
   "cell_type": "code",
   "execution_count": 68,
   "metadata": {
    "collapsed": false
   },
   "outputs": [
    {
     "name": "stdout",
     "output_type": "stream",
     "text": [
      "Hello\n",
      "Hello\n",
      "Hello\n",
      "Hello\n",
      "Hello\n",
      "Hello\n",
      "Hello\n",
      "Hello\n",
      "Hello\n",
      "Hello\n"
     ]
    },
    {
     "ename": "KeyboardInterrupt",
     "evalue": "",
     "output_type": "error",
     "traceback": [
      "\u001b[1;31m---------------------------------------------------------------------------\u001b[0m",
      "\u001b[1;31mKeyboardInterrupt\u001b[0m                         Traceback (most recent call last)",
      "\u001b[1;32m<ipython-input-68-ba3000caf789>\u001b[0m in \u001b[0;36m<module>\u001b[1;34m()\u001b[0m\n\u001b[0;32m      3\u001b[0m \u001b[1;33m\u001b[0m\u001b[0m\n\u001b[0;32m      4\u001b[0m \u001b[1;32mwhile\u001b[0m \u001b[0mtime\u001b[0m\u001b[1;33m.\u001b[0m\u001b[0mtime\u001b[0m\u001b[1;33m(\u001b[0m\u001b[1;33m)\u001b[0m \u001b[1;33m-\u001b[0m \u001b[0minit_timer\u001b[0m \u001b[1;33m<\u001b[0m \u001b[1;36m100\u001b[0m\u001b[1;33m:\u001b[0m\u001b[1;33m\u001b[0m\u001b[0m\n\u001b[1;32m----> 5\u001b[1;33m     \u001b[1;32mif\u001b[0m \u001b[0mtime\u001b[0m\u001b[1;33m.\u001b[0m\u001b[0mtime\u001b[0m\u001b[1;33m(\u001b[0m\u001b[1;33m)\u001b[0m \u001b[1;33m-\u001b[0m \u001b[0mtimer\u001b[0m \u001b[1;33m>\u001b[0m \u001b[1;36m0.999\u001b[0m\u001b[1;33m:\u001b[0m\u001b[1;33m\u001b[0m\u001b[0m\n\u001b[0m\u001b[0;32m      6\u001b[0m         \u001b[0mtimer\u001b[0m \u001b[1;33m=\u001b[0m \u001b[0mtime\u001b[0m\u001b[1;33m.\u001b[0m\u001b[0mtime\u001b[0m\u001b[1;33m(\u001b[0m\u001b[1;33m)\u001b[0m\u001b[1;33m\u001b[0m\u001b[0m\n\u001b[0;32m      7\u001b[0m         \u001b[1;32mprint\u001b[0m \u001b[1;34m\"Hello\"\u001b[0m\u001b[1;33m\u001b[0m\u001b[0m\n",
      "\u001b[1;31mKeyboardInterrupt\u001b[0m: "
     ]
    }
   ],
   "source": [
    "init_timer = time.time()\n",
    "timer = time.time()\n",
    "\n",
    "while time.time() - init_timer < 100:\n",
    "    if time.time() - timer > 0.999:\n",
    "        timer = time.time()\n",
    "        print \"Hello\""
   ]
  },
  {
   "cell_type": "code",
   "execution_count": 24,
   "metadata": {
    "collapsed": false
   },
   "outputs": [
    {
     "name": "stdout",
     "output_type": "stream",
     "text": [
      "['SECURITY_ORDERS_OUT', 'BID', 'FB', '8.598545362735747', '5600', 'ASK', 'FB', '19.34672706615533', '5600', '\\r\\n']\n"
     ]
    }
   ],
   "source": [
    "def my_securities():\n",
    "    x = run(\"MY_SECURITIES\")[0].split(\" \")\n",
    "    return x\n",
    "\n",
    "def my_cash():\n",
    "    x = run(\"MY_CASH\")[0].split(\" \")\n",
    "    mycash = x[1]\n",
    "    return mycash\n",
    "\n",
    "def securities():\n",
    "    x = run(\"SECURITIES\")[0].split(\" \")\n",
    "    return x\n",
    "\n",
    "def orders(ticker):\n",
    "    x = run(\"ORDERS %s\" %ticker)[0].split(\" \")\n",
    "    return x\n",
    "\n",
    "print orders(\"FB\")\n"
   ]
  },
  {
   "cell_type": "code",
   "execution_count": 82,
   "metadata": {
    "collapsed": false
   },
   "outputs": [
    {
     "name": "stdout",
     "output_type": "stream",
     "text": [
      "AAPL\n"
     ]
    }
   ],
   "source": [
    "print securities()[1]"
   ]
  },
  {
   "cell_type": "code",
   "execution_count": null,
   "metadata": {
    "collapsed": false
   },
   "outputs": [],
   "source": [
    "def tickers():\n",
    "    x = securities()\n",
    "    r = [x[(i+1)*4 - 3] for i in range( (len (x) - 1) // 4)]\n",
    "    return r\n",
    "\n",
    "def stock_ratios():\n",
    "    x = securities()\n",
    "    r = [x[(i+1)*4 - 1] for i in range( (len (x) - 1) // 4)]\n",
    "    return r\n",
    "\n",
    "def stock_worth():\n",
    "    x = securities()\n",
    "    r = [x[(i+1)*4 - 2] for i in range( (len (x) - 1) // 4)]\n",
    "    return r\n",
    "\n",
    "def my_ratios():\n",
    "    x = my_securities()\n",
    "    r = [x[(i+1)*3] for i in range( (len (x) - 1) // 3)]\n",
    "    return r\n",
    "    \n",
    "def my_stocks():\n",
    "    x = my_securities()\n",
    "    r = [x[(i+1)*3 - 1] for i in range( (len (x) - 1) // 3)]\n",
    "    return r\n",
    "\n",
    "def get_asks():\n",
    "    asks = []\n",
    "    for ticker in tickers():\n",
    "        x = orders(ticker)\n",
    "        for index, item in enumerate(x):\n",
    "            if item == \"ASK\":\n",
    "                asks.append([ticker, x[index+2], x[index+3]])\n",
    "    return asks\n",
    "\n",
    "def get_bids():\n",
    "    bids = []\n",
    "    for ticker in tickers():\n",
    "        x = orders(ticker)\n",
    "        for index, item in enumerate(x):\n",
    "            if item == \"BID\":\n",
    "                bids.append([ticker, x[index+2], x[index+3]])\n",
    "    return bids\n",
    "\n",
    "print my_ratios()\n"
   ]
  },
  {
   "cell_type": "code",
   "execution_count": 64,
   "metadata": {
    "collapsed": false
   },
   "outputs": [
    {
     "name": "stdout",
     "output_type": "stream",
     "text": [
      "0.0004\n",
      "0.0\n",
      "0.0004\n",
      "0.0\n",
      "0.0002\n",
      "0.0\n",
      "0.0009\n",
      "0.0219112543455\n",
      "0.001\n",
      "0.0\n",
      "0.0005\n",
      "0.0\n",
      "0.0002\n",
      "0.0\n",
      "0.0007\n",
      "0.0\n",
      "0.0006\n",
      "0.0\n",
      "0.0008\n",
      "0.0\n",
      "{'GOOG': 0.001, 'TSLA': 0.0006, 'TWTR': 0.0008, 'AAPL': 0.0004, 'EA': 0.0002, 'SBUX': 0.0002, 'FB': 0.0219112543454579, 'ATVI': 0.0004, 'MSFT': 0.0005, 'SNY': 0.0007}\n",
      "['0', '0', '0', '30', '0', '0', '0', '0', '0', '0']\n",
      "[['AAPL', 16.488261839184297, '2000', 19.580448462624908], ['ATVI', 23.01882589112596, '2800', 27.412627847674873], ['EA', 29.54923853012899, '3600', 69.06693526360331], ['FB', 1131.4514467690326, '5600', 24.3375398208204], ['GOOG', 6.646675200470665, '800', 3.1325655029555413], ['MSFT', 13.326475123920149, '1600', 12.572454246933887], ['SBUX', 43.80844773800412, '4800', 94.29340685200415], ['SNY', 49.517271393797536, '3600', 20.188239238371015], ['TSLA', 11.112805417359928, '1200', 7.85778390433368], ['TWTR', 22.675966272201638, '2800', 13.75112183258394]]\n"
     ]
    }
   ],
   "source": [
    "worth_dict = {}\n",
    "ratio_dict = {}\n",
    "\n",
    "worths = stock_worth()\n",
    "ratios = stock_ratios()\n",
    "myratios = my_ratios()\n",
    "mystocks = my_stocks()\n",
    "\n",
    "for index,ticker in enumerate(tickers()):\n",
    "    if float(myratios[index]) == float(0):\n",
    "        worth_dict[ticker] = float(worths[index])\n",
    "        ratio_dict[ticker] = float(ratios[index])\n",
    "    else:\n",
    "        worth_dict[ticker] = float(worths[index])\n",
    "        ratio_dict[ticker] = float(myratios[index])\n",
    "    print float(ratios[index])\n",
    "    print float(myratios[index])\n",
    "    \n",
    "asks = get_asks()\n",
    "obj = []\n",
    "\n",
    "for item in asks:\n",
    "    obj.append([item[0], worth_dict[item[0]]*ratio_dict[item[0]] / float(item[1]), item[2], float(mycash()) / float(item[1])])\n",
    "\n",
    "print ratio_dict\n",
    "print my_stocks()\n",
    "print obj\n"
   ]
  },
  {
   "cell_type": "code",
   "execution_count": 55,
   "metadata": {
    "collapsed": false
   },
   "outputs": [
    {
     "name": "stdout",
     "output_type": "stream",
     "text": [
      "['SECURITIES_OUT', 'AAPL', '857391.3781513496', '4.0E-4', '0.005', 'ATVI', '854992.6198955865', '4.0E-4', '0.015', 'EA', '1038107.210474661', '2.0E-4', '0.005', 'FB', '999403.9500578013', '9.0E-4', '0.01', 'GOOG', '1000761.2466453431', '0.001', '0.004', 'MSFT', '997482.2887072692', '5.0E-4', '0.003', 'SBUX', '996540.7405200735', '2.0E-4', '0.003', 'SNY', '1930504.2783774189', '7.0E-4', '0.007', 'TSLA', '1281892.5886670284', '6.0E-4', '0.003', 'TWTR', '808854.3434894244', '8.0E-4', '0.007', '\\r\\n']\n"
     ]
    }
   ],
   "source": [
    "0.0004\n",
    "0.0\n",
    "0.0004\n",
    "0.0\n",
    "0.0002\n",
    "0.0\n",
    "0.0009\n",
    "0.0\n",
    "0.001\n",
    "0.0\n",
    "0.0005\n",
    "0.0\n",
    "0.0002\n",
    "0.0\n",
    "0.0007\n",
    "0.0\n",
    "0.0006\n",
    "0.0\n",
    "0.0008\n",
    "0.0\n",
    "{'GOOG': 0.001, 'TSLA': 0.0006, 'TWTR': 0.0008, 'AAPL': 0.0004, 'EA': 0.0002, 'SBUX': 0.0002, 'FB': 0.0009, 'ATVI': 0.0004, 'MSFT': 0.0005, 'SNY': 0.0007}\n",
    "['0', '0', '0', '0', '0', '0', '0', '0', '0', '0']\n",
    "[['AAPL', 16.710278472336466, '2000', 41.666666666666664], ['ATVI', 23.311081509283134, '2800', 58.333333333333336], ['EA', 30.01950585107264, '3600', 150.0], ['FB', 46.50890869201174, '5600', 51.851851851851855], ['GOOG', 6.6671722588034115, '800', 6.666666666666667], ['MSFT', 13.330934385776443, '1600', 26.666666666666668], ['SBUX', 40.05203019921898, '4800', 200.0], ['SNY', 30.13176085192564, '3600', 42.85714285714286], ['TSLA', 10.120694380401067, '1200', 16.666666666666668], ['TWTR', 22.99458402610508, '2800', 29.166666666666668]]"
   ]
  },
  {
   "cell_type": "code",
   "execution_count": null,
   "metadata": {
    "collapsed": true
   },
   "outputs": [],
   "source": [
    "x = 5\n",
    "print x"
   ]
  },
  {
   "cell_type": "code",
   "execution_count": null,
   "metadata": {
    "collapsed": true
   },
   "outputs": [],
   "source": []
  }
 ],
 "metadata": {
  "kernelspec": {
   "display_name": "Python 2",
   "language": "python",
   "name": "python2"
  },
  "language_info": {
   "codemirror_mode": {
    "name": "ipython",
    "version": 2
   },
   "file_extension": ".py",
   "mimetype": "text/x-python",
   "name": "python",
   "nbconvert_exporter": "python",
   "pygments_lexer": "ipython2",
   "version": "2.7.10"
  }
 },
 "nbformat": 4,
 "nbformat_minor": 0
}
