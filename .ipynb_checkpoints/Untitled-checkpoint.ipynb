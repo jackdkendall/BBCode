{
 "cells": [
  {
   "cell_type": "code",
   "execution_count": 10,
   "metadata": {
    "collapsed": true
   },
   "outputs": [],
   "source": [
    "import socket\n",
    "import sys\n",
    "import time\n",
    "from __future__ import division\n",
    "    \n",
    "def run(*commands):\n",
    "    HOST, PORT = \"codebb.cloudapp.net\", 17429\n",
    "    \n",
    "    data=\"TheFeds\" + \" \" + \"ilikepizza123\" + \"\\n\" + \"\\n\".join(commands) + \"\\nCLOSE_CONNECTION\\n\"\n",
    "\n",
    "    try:\n",
    "        sock = socket.socket(socket.AF_INET, socket.SOCK_STREAM)\n",
    "\n",
    "        sock.connect((HOST, PORT))\n",
    "        sock.sendall(data)\n",
    "        sfile = sock.makefile()\n",
    "        rline = sfile.readline()\n",
    "        returnstring = []\n",
    "        while rline:\n",
    "            returnstring.append(rline)\n",
    "            rline = sfile.readline()\n",
    "    finally:\n",
    "        sock.close()\n",
    "    return returnstring\n",
    "\n",
    "def subscribe(user, password):\n",
    "    HOST, PORT = \"codebb.cloudapp.net\", 17429\n",
    "    \n",
    "    data=\"TheFeds\" + \" \" + \"ilikepizza123\" + \"\\nSUBSCRIBE\\n\"\n",
    "\n",
    "    try:\n",
    "        sock = socket.socket(socket.AF_INET, socket.SOCK_STREAM)\n",
    "\n",
    "        sock.connect((HOST, PORT))\n",
    "        sock.sendall(data)\n",
    "        sfile = sock.makefile()\n",
    "        rline = sfile.readline()\n",
    "        while rline:\n",
    "            print(rline.strip())\n",
    "            rline = sfile.readline()\n",
    "    finally:\n",
    "        sock.close()"
   ]
  },
  {
   "cell_type": "code",
   "execution_count": 11,
   "metadata": {
    "collapsed": false,
    "scrolled": false
   },
   "outputs": [
    {
     "data": {
      "text/plain": [
       "[\"DISCLAIMER: The HELP command returns more than 1 line and may negatively impact programs dependend on some getline() function. You shouldn't be calling HELP in your programs anyways. \\n\",\n",
       " '\\n',\n",
       " 'MY_CASH - output your current cash. \\n',\n",
       " 'Output format: MY_CASH_OUT <cash> \\n',\n",
       " '\\n',\n",
       " 'MY_SECURITIES - output all shares you own. \\n',\n",
       " 'Output format: MY_SECURITIES_OUT <ticker> <shares> <dividend_ratio> <ticker> <shares> <dividend_ratio> ... \\n',\n",
       " '\\n',\n",
       " 'MY_ORDERS - output all of your current orders bid & ask on the exchange. \\n',\n",
       " 'Output format: MY_ORDERS_OUT [<BID or ASK> <price> <shares>...] \\n',\n",
       " '\\n',\n",
       " 'SECURITIES - output all securities in the exchange. \\n',\n",
       " 'Output format: SECURITIES_OUT <ticker> <net_worth> <dividend_ratio> <volatility>\\xe2\\x80\\xa6 \\n',\n",
       " '\\n',\n",
       " 'ORDERS <ticker> - list all orders on the exchange for a ticker. \\n',\n",
       " 'Output format: SECURITY_ORDERS_OUT [<BID or ASK> <price> <shares>\\xe2\\x80\\xa6] \\n',\n",
       " '\\n',\n",
       " 'BID <ticker> <price> <shares> - place a new bid. \\n',\n",
       " 'Output format: BID_OUT DONE or ERROR Not Enough Cash to make bid order \\n',\n",
       " '\\n',\n",
       " 'ASK <ticker> <price> <shares> - place a new ask. \\n',\n",
       " 'Output format: ASK_OUT DONE or ERROR Not Enough Shares Owned \\n',\n",
       " '\\n',\n",
       " 'CLEAR_BID <ticker> - clear your bid. \\n',\n",
       " 'Output format: CLEAR_BID_OUT DONE or ERROR No Security Specified \\n',\n",
       " '\\n',\n",
       " 'CLEAR_ASK <ticker> - clear your ask. \\n',\n",
       " 'Output format: CLEAR_ASK_OUT DONE or ERROR No Security Specified \\n',\n",
       " '\\n',\n",
       " 'SUBSCRIBE - subscribe to any trades you make as well as any bids. The market may automatically withdraw due to lack of funds. \\n',\n",
       " 'Output format: BUY <ticker> <price> <shares> or SELL <ticker> <price> <shares> \\n',\n",
       " '\\n',\n",
       " 'UNSUBSRCIBE - unsubscribe from updates. \\n',\n",
       " '\\n',\n",
       " 'CLOSE_CONNECTION - end the connection gracefully.\\n',\n",
       " '\\n',\n",
       " 'HELP - show all possible commands.\\n',\n",
       " '\\r\\n']"
      ]
     },
     "execution_count": 11,
     "metadata": {},
     "output_type": "execute_result"
    }
   ],
   "source": [
    "run(\"HELP\")"
   ]
  },
  {
   "cell_type": "code",
   "execution_count": null,
   "metadata": {
    "collapsed": false
   },
   "outputs": [],
   "source": [
    "init_timer = time.time()\n",
    "timer = time.time()\n",
    "\n",
    "while time.time() - init_timer < 100:\n",
    "    if time.time() - timer > 0.999:\n",
    "        timer = time.time()\n",
    "        print \"Hello\""
   ]
  },
  {
   "cell_type": "code",
   "execution_count": 13,
   "metadata": {
    "collapsed": false
   },
   "outputs": [
    {
     "name": "stdout",
     "output_type": "stream",
     "text": [
      "['SECURITY_ORDERS_OUT', 'BID', 'FB', '8.703735782839999', '1', 'BID', 'FB', '8.70373478284', '10', 'BID', 'FB', '8.68495596025817', '5589', 'ASK', 'FB', '19.41', '20', 'ASK', 'FB', '19.4384032614', '5', 'ASK', 'FB', '19.541150910580786', '5575', '\\r\\n']\n"
     ]
    }
   ],
   "source": [
    "def my_securities():\n",
    "    x = run(\"MY_SECURITIES\")[0].split(\" \")\n",
    "    return x\n",
    "\n",
    "def my_cash():\n",
    "    x = run(\"MY_CASH\")[0].split(\" \")\n",
    "    mycash = x[1]\n",
    "    return mycash\n",
    "\n",
    "def Securities():\n",
    "    x = run(\"SECURITIES\")[0].split(\" \")\n",
    "    return x\n",
    "\n",
    "def orders(ticker):\n",
    "    x = run(\"ORDERS %s\" %ticker)[0].split(\" \")\n",
    "    return x\n",
    "\n",
    "print orders(\"FB\")"
   ]
  },
  {
   "cell_type": "code",
   "execution_count": 34,
   "metadata": {
    "collapsed": false
   },
   "outputs": [
    {
     "name": "stdout",
     "output_type": "stream",
     "text": [
      "{'GOOG': ['1004619.5104713797', '0.001'], 'TSLA': ['1085046.0358504103', '6.0E-4'], 'TWTR': ['908216.3568250623', '8.0E-4'], 'AAPL': ['929704.5259734935', '4.0E-4'], 'EA': ['1013489.8428565125', '2.0E-4'], 'SBUX': ['988710.8503691928', '2.0E-4'], 'FB': ['1002677.2926369823', '9.0E-4'], 'ATVI': ['975589.1278661813', '4.0E-4'], 'MSFT': ['1004039.7220921146', '5.0E-4'], 'SNY': ['1159750.8463003756', '7.0E-4']}\n",
      "{'GOOG': ['0.0', '0'], 'TSLA': ['0.0', '0'], 'TWTR': ['0.0', '0'], 'AAPL': ['0.0', '0'], 'EA': ['0.0', '0'], 'SBUX': ['0.0', '0'], 'FB': ['0.0', '0'], 'ATVI': ['0.0', '0'], 'MSFT': ['0.0', '0'], 'SNY': ['0.0', '0']}\n"
     ]
    }
   ],
   "source": [
    "def tickers():\n",
    "    x = Securities()\n",
    "    r = [x[(i+1)*4 - 3] for i in range( (len (x) - 1) // 4)]\n",
    "    return r\n",
    "\n",
    "def stock_ratios():\n",
    "    x = Securities()\n",
    "    r = [x[(i+1)*4 - 1] for i in range( (len (x) - 1) // 4)]\n",
    "    return r\n",
    "\n",
    "def stock_worth():\n",
    "    x = Securities()\n",
    "    r = [x[(i+1)*4 - 2] for i in range( (len (x) - 1) // 4)]\n",
    "    return r\n",
    "\n",
    "def my_ratios():\n",
    "    x = my_securities()\n",
    "    r = [x[(i+1)*3] for i in range( (len (x) - 1) // 3)]\n",
    "    return r\n",
    "    \n",
    "def my_stocks():\n",
    "    x = my_securities()\n",
    "    r = [x[(i+1)*3 - 1] for i in range( (len (x) - 1) // 3)]\n",
    "    return r\n",
    "\n",
    "def get_securities():\n",
    "    securities = {}\n",
    "    x = run(\"SECURITIES\")[0].split(\" \")\n",
    "    for i in range( (len (x) - 1) // 4):\n",
    "        securities[x[(i+1)*4 - 3]] = [x[(i+1)*4 - 2], x[(i+1)*4 - 1]]\n",
    "    return securities\n",
    "\n",
    "def get_mysecurities():\n",
    "    mysecurities = {}\n",
    "    x = run(\"MY_SECURITIES\")[0].split(\" \")\n",
    "    for i in range( (len (x) - 1) // 3):\n",
    "        mysecurities[x[(i+1)*3 - 2]] = [x[(i+1)*3], x[(i+1)*3 - 1]]\n",
    "    return mysecurities\n",
    "\n",
    "def get_asks():\n",
    "    asks = []\n",
    "    for ticker in tickers():\n",
    "        x = orders(ticker)\n",
    "        for index, item in enumerate(x):\n",
    "            if item == \"ASK\":\n",
    "                asks.append([ticker, x[index+2], x[index+3]])\n",
    "    return asks\n",
    "\n",
    "def get_bids():\n",
    "    bids = []\n",
    "    for ticker in tickers():\n",
    "        x = orders(ticker)\n",
    "        for index, item in enumerate(x):\n",
    "            if item == \"BID\":\n",
    "                bids.append([ticker, x[index+2], x[index+3]])\n",
    "    return bids\n",
    "\n",
    "\n",
    "print get_securities()\n",
    "print get_mysecurities()"
   ]
  },
  {
   "cell_type": "code",
   "execution_count": 37,
   "metadata": {
    "collapsed": false
   },
   "outputs": [
    {
     "name": "stdout",
     "output_type": "stream",
     "text": [
      "[['AAPL', 14.47189232835487, '1', 41.202852448337005], ['AAPL', 14.460872928504191, '1999', 41.171479169997504], ['ATVI', 21.93294215318158, '1', 58.189051258607385], ['ATVI', 21.928695152649066, '2799', 58.17778378113192], ['EA', 30.084048217891105, '1', 147.05895328731174], ['EA', 30.084021673142676, '26', 147.05882352941177], ['EA', 29.456488814258485, '3573', 143.9912734207126], ['FB', 46.48837978799583, '5600', 51.69381743134548], ['GOOG', 6.668195771232019, '1', 6.620556467327705], ['GOOG', 6.660672212287163, '799', 6.613086658621041], ['MSFT', 13.37847396205007, '1', 26.597184520016423], ['MSFT', 13.373537514048234, '1599', 26.587370574214333], ['SBUX', 42.53801331573558, '4800', 190.25938805504023], ['SNY', 54.99224125627049, '1', 42.54074077564788], ['SNY', 54.9846359339566, '3599', 42.5348574721549], ['TSLA', 10.63738159385309, '1', 16.606000644357266], ['TSLA', 10.634329994050105, '1199', 16.601236796426495], ['TWTR', 21.58731345821669, '1', 29.09690322582179], ['TWTR', 21.585304972516884, '2799', 29.0941960471749]]\n"
     ]
    }
   ],
   "source": [
    "mysecurities = get_mysecurities()\n",
    "securities = get_securities()\n",
    "asks = get_asks()\n",
    "\n",
    "obj = []\n",
    "\n",
    "for item in asks:\n",
    "    if float(mysecurities[item[0]][1]) == 0:\n",
    "        obj.append([item[0], float(securities[item[0]][0])*float(securities[item[0]][1]) / float(item[1]), item[2], float(my_cash()) / float(item[1])])\n",
    "    else:\n",
    "        obj.append([item[0], float(securities[item[0]][0])*float(mysecurities[item[0]][0]) / float(item[1]), item[2], float(my_cash()) / float(item[1])])\n",
    "print obj"
   ]
  },
  {
   "cell_type": "code",
   "execution_count": null,
   "metadata": {
    "collapsed": false
   },
   "outputs": [],
   "source": [
    "run(\"BID MSFT 37.5 10\")\n"
   ]
  },
  {
   "cell_type": "code",
   "execution_count": null,
   "metadata": {
    "collapsed": false
   },
   "outputs": [],
   "source": [
    "print run(\"SECURITIES\")\n",
    "print run(\"MY_SECURITIES\")"
   ]
  },
  {
   "cell_type": "code",
   "execution_count": null,
   "metadata": {
    "collapsed": true
   },
   "outputs": [],
   "source": []
  }
 ],
 "metadata": {
  "kernelspec": {
   "display_name": "Python 2",
   "language": "python",
   "name": "python2"
  },
  "language_info": {
   "codemirror_mode": {
    "name": "ipython",
    "version": 2
   },
   "file_extension": ".py",
   "mimetype": "text/x-python",
   "name": "python",
   "nbconvert_exporter": "python",
   "pygments_lexer": "ipython2",
   "version": "2.7.10"
  }
 },
 "nbformat": 4,
 "nbformat_minor": 0
}
